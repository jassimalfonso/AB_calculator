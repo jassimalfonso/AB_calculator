{
 "cells": [
  {
   "cell_type": "code",
   "execution_count": 1,
   "id": "15aa4016-5904-4dc0-aa3d-3e5987f5a47e",
   "metadata": {},
   "outputs": [],
   "source": [
    "def add(x, y):\n",
    "    return x + y;\n",
    "\n",
    "def subtract(x, y):\n",
    "    return x - y;\n",
    "\n",
    "def divide(x, y):\n",
    "    return x / y;\n",
    "\n",
    "def multiply(x, y):\n",
    "    return x * y;"
   ]
  },
  {
   "cell_type": "code",
   "execution_count": 26,
   "id": "46bc7a7c-a424-4f5b-8fcc-37ce4ccdad64",
   "metadata": {},
   "outputs": [
    {
     "name": "stdout",
     "output_type": "stream",
     "text": [
      "Enter 'A' for Addition.\n",
      "Enter 'S' for Subtraction.\n",
      "Enter 'D' for Division.\n",
      "Enter 'M' for Multiplication.\n"
     ]
    },
    {
     "name": "stdin",
     "output_type": "stream",
     "text": [
      "Enter choice (A, S, D, M):  lkaj\n"
     ]
    },
    {
     "name": "stdout",
     "output_type": "stream",
     "text": [
      "Error...please enter correct input.\n"
     ]
    },
    {
     "name": "stdin",
     "output_type": "stream",
     "text": [
      "Do you want to continue? (yes/no):  yes\n",
      "Enter choice (A, S, D, M):  lkjs\n"
     ]
    },
    {
     "name": "stdout",
     "output_type": "stream",
     "text": [
      "Error...please enter correct input.\n"
     ]
    },
    {
     "name": "stdin",
     "output_type": "stream",
     "text": [
      "Do you want to continue? (yes/no):  yes\n",
      "Enter choice (A, S, D, M):  alksjdlfkajdslkjfaslfdkj\n"
     ]
    },
    {
     "name": "stdout",
     "output_type": "stream",
     "text": [
      "Error...please enter correct input.\n"
     ]
    },
    {
     "name": "stdin",
     "output_type": "stream",
     "text": [
      "Do you want to continue? (yes/no):  yes\n",
      "Enter choice (A, S, D, M):  a\n",
      "Enter first number:  \n"
     ]
    },
    {
     "ename": "ValueError",
     "evalue": "could not convert string to float: ''",
     "output_type": "error",
     "traceback": [
      "\u001b[1;31m---------------------------------------------------------------------------\u001b[0m",
      "\u001b[1;31mValueError\u001b[0m                                Traceback (most recent call last)",
      "Cell \u001b[1;32mIn[26], line 10\u001b[0m\n\u001b[0;32m      8\u001b[0m user_choice \u001b[38;5;241m=\u001b[39m \u001b[38;5;28minput\u001b[39m(\u001b[38;5;124m\"\u001b[39m\u001b[38;5;124mEnter choice (A, S, D, M): \u001b[39m\u001b[38;5;124m\"\u001b[39m);\n\u001b[0;32m      9\u001b[0m \u001b[38;5;28;01mif\u001b[39;00m user_choice\u001b[38;5;241m.\u001b[39mupper() \u001b[38;5;129;01min\u001b[39;00m (\u001b[38;5;124m'\u001b[39m\u001b[38;5;124mA\u001b[39m\u001b[38;5;124m'\u001b[39m, \u001b[38;5;124m'\u001b[39m\u001b[38;5;124mADD\u001b[39m\u001b[38;5;124m'\u001b[39m, \u001b[38;5;124m'\u001b[39m\u001b[38;5;124mADDITION\u001b[39m\u001b[38;5;124m'\u001b[39m, \u001b[38;5;124m'\u001b[39m\u001b[38;5;124mS\u001b[39m\u001b[38;5;124m'\u001b[39m, \u001b[38;5;124m'\u001b[39m\u001b[38;5;124mSUBTRACT\u001b[39m\u001b[38;5;124m'\u001b[39m, \u001b[38;5;124m'\u001b[39m\u001b[38;5;124mSUBTRACTION\u001b[39m\u001b[38;5;124m'\u001b[39m, \u001b[38;5;124m'\u001b[39m\u001b[38;5;124mD\u001b[39m\u001b[38;5;124m'\u001b[39m, \u001b[38;5;124m'\u001b[39m\u001b[38;5;124mDIVIDE\u001b[39m\u001b[38;5;124m'\u001b[39m, \u001b[38;5;124m'\u001b[39m\u001b[38;5;124mDIVISION\u001b[39m\u001b[38;5;124m'\u001b[39m, \u001b[38;5;124m'\u001b[39m\u001b[38;5;124mM\u001b[39m\u001b[38;5;124m'\u001b[39m, \u001b[38;5;124m'\u001b[39m\u001b[38;5;124mMULTIPLY\u001b[39m\u001b[38;5;124m'\u001b[39m, \u001b[38;5;124m'\u001b[39m\u001b[38;5;124mMULTIPLICATION\u001b[39m\u001b[38;5;124m'\u001b[39m):\n\u001b[1;32m---> 10\u001b[0m     num1 \u001b[38;5;241m=\u001b[39m \u001b[38;5;28mfloat\u001b[39m(\u001b[38;5;28minput\u001b[39m(\u001b[38;5;124m\"\u001b[39m\u001b[38;5;124mEnter first number: \u001b[39m\u001b[38;5;124m\"\u001b[39m));\n\u001b[0;32m     11\u001b[0m     num2 \u001b[38;5;241m=\u001b[39m \u001b[38;5;28mfloat\u001b[39m(\u001b[38;5;28minput\u001b[39m(\u001b[38;5;124m\"\u001b[39m\u001b[38;5;124mEnter second number: \u001b[39m\u001b[38;5;124m\"\u001b[39m));\n\u001b[0;32m     13\u001b[0m     \u001b[38;5;28;01mif\u001b[39;00m user_choice\u001b[38;5;241m.\u001b[39mupper() \u001b[38;5;129;01min\u001b[39;00m (\u001b[38;5;124m'\u001b[39m\u001b[38;5;124mA\u001b[39m\u001b[38;5;124m'\u001b[39m, \u001b[38;5;124m'\u001b[39m\u001b[38;5;124mADD\u001b[39m\u001b[38;5;124m'\u001b[39m, \u001b[38;5;124m'\u001b[39m\u001b[38;5;124mADDITION\u001b[39m\u001b[38;5;124m'\u001b[39m):\n",
      "\u001b[1;31mValueError\u001b[0m: could not convert string to float: ''"
     ]
    }
   ],
   "source": [
    "print(\"Enter 'A' for Addition.\");\n",
    "print(\"Enter 'S' for Subtraction.\");\n",
    "print(\"Enter 'D' for Division.\");\n",
    "print(\"Enter 'M' for Multiplication.\");\n",
    "\n",
    "user_continue = \"yes\";\n",
    "while(user_continue.upper() != \"NO\"):\n",
    "    user_choice = input(\"Enter choice (A, S, D, M): \");\n",
    "    if user_choice.upper() in ('A', 'ADD', 'ADDITION', 'S', 'SUBTRACT', 'SUBTRACTION', 'D', 'DIVIDE', 'DIVISION', 'M', 'MULTIPLY', 'MULTIPLICATION'):\n",
    "        num1 = float(input(\"Enter first number: \"));\n",
    "        num2 = float(input(\"Enter second number: \"));\n",
    "        \n",
    "        if user_choice.upper() in ('A', 'ADD', 'ADDITION'):\n",
    "            print(add(num1, num2));\n",
    "        elif user_choice.upper() in ('S', 'SUBTRACT', 'SUBTRACTION'):\n",
    "            print(subtract(num1, num2));\n",
    "        elif user_choice.upper() in ('D', 'DIVIDE', 'DIVISION'):\n",
    "            print(divide(num1, num2));\n",
    "        elif user_choice.upper() in ('M', 'MULTIPLY', 'MULTIPLICATION'):\n",
    "            print(multiply(num1, num2));\n",
    "    else:\n",
    "        print(\"Error...please enter correct input.\");\n",
    "    user_continue = input(\"Do you want to continue? (yes/no): \");\n",
    "print(\"Thanks, Bye!\");"
   ]
  }
 ],
 "metadata": {
  "kernelspec": {
   "display_name": "Python 3 (ipykernel)",
   "language": "python",
   "name": "python3"
  },
  "language_info": {
   "codemirror_mode": {
    "name": "ipython",
    "version": 3
   },
   "file_extension": ".py",
   "mimetype": "text/x-python",
   "name": "python",
   "nbconvert_exporter": "python",
   "pygments_lexer": "ipython3",
   "version": "3.12.4"
  }
 },
 "nbformat": 4,
 "nbformat_minor": 5
}
